{
  "cells": [
    {
      "cell_type": "markdown",
      "metadata": {
        "id": "5sNrLQjxjy3G"
      },
      "source": [
        "### **Spam Email Prediction Using Random Forest**\n"
      ]
    },
    {
      "cell_type": "markdown",
      "metadata": {
        "id": "CNmFohQiwuiU"
      },
      "source": [
        "## Get understanding about data set"
      ]
    },
    {
      "cell_type": "markdown",
      "metadata": {
        "id": "Xj2xBvbEkUtq"
      },
      "source": [
        "Email data contains\n",
        "\n",
        "\n",
        "1.  ID\n",
        "1.  Mail\n",
        "1.  Text\n",
        "1.  Label\n",
        "\n",
        "\n",
        "\n",
        "\n",
        "\n",
        "\n"
      ]
    },
    {
      "cell_type": "markdown",
      "metadata": {
        "id": "9JM21yGSlIOP"
      },
      "source": [
        "## Import Library"
      ]
    },
    {
      "cell_type": "code",
      "execution_count": 34,
      "metadata": {
        "id": "o14ZEezBkXIp"
      },
      "outputs": [],
      "source": [
        "import pandas as pd\n",
        "import numpy as np\n"
      ]
    },
    {
      "cell_type": "markdown",
      "metadata": {
        "id": "rZI0q_rolYbx"
      },
      "source": [
        "## Import CSV as Dataframe"
      ]
    },
    {
      "cell_type": "markdown",
      "metadata": {
        "id": "5x6p_O5tll6t"
      },
      "source": [
        "Use URL of the file directly"
      ]
    },
    {
      "cell_type": "code",
      "execution_count": 35,
      "metadata": {
        "id": "qLtqA0rNlnIf"
      },
      "outputs": [],
      "source": [
        "df=pd.read_csv(r'https://raw.githubusercontent.com/YBI-Foundation/Dataset/main/Spam%20Email.csv')"
      ]
    },
    {
      "cell_type": "markdown",
      "metadata": {
        "id": "16YkA5vAmAVv"
      },
      "source": [
        "Or use file path after uploading file in Google Colab Notebook"
      ]
    },
    {
      "cell_type": "code",
      "execution_count": 36,
      "metadata": {
        "id": "SGggvLYcmFOr"
      },
      "outputs": [],
      "source": [
        "# df = pd.read_csv(r'/content/Spam Email.csv)"
      ]
    },
    {
      "cell_type": "markdown",
      "metadata": {
        "id": "1u1UC3BMmVpw"
      },
      "source": [
        "Or use local file path in Jupyter Notebook"
      ]
    },
    {
      "cell_type": "code",
      "execution_count": 37,
      "metadata": {
        "id": "7ACS83rcmUdF"
      },
      "outputs": [],
      "source": [
        "# df = pd.read_csv(r'C:\\Users\\abc\\Downloads\\Spam Email.csv')"
      ]
    },
    {
      "cell_type": "markdown",
      "metadata": {
        "id": "Ifq7oknapBOl"
      },
      "source": [
        "## Get first 5 rows of dataframe"
      ]
    },
    {
      "cell_type": "code",
      "execution_count": 38,
      "metadata": {
        "colab": {
          "base_uri": "https://localhost:8080/",
          "height": 206
        },
        "id": "S3EehTAFo6PC",
        "outputId": "618e257b-cbc9-4991-ffee-12ca7a1293d6"
      },
      "outputs": [
        {
          "output_type": "execute_result",
          "data": {
            "text/plain": [
              "   ID Mail                                               Text  Label\n",
              "0   1  ham          Subject: christmas tree farm pictures\\r\\n      0\n",
              "1   2  ham  Subject: vastar resources , inc .\\r\\ngary , pr...      0\n",
              "2   3  ham  Subject: calpine daily gas nomination\\r\\n- cal...      0\n",
              "3   4  ham  Subject: re : issue\\r\\nfyi - see note below - ...      0\n",
              "4   5  ham  Subject: meter 7268 nov allocation\\r\\nfyi .\\r\\...      0"
            ],
            "text/html": [
              "\n",
              "  <div id=\"df-6c3edff3-ac5c-463a-840f-f938cfdb3d0d\">\n",
              "    <div class=\"colab-df-container\">\n",
              "      <div>\n",
              "<style scoped>\n",
              "    .dataframe tbody tr th:only-of-type {\n",
              "        vertical-align: middle;\n",
              "    }\n",
              "\n",
              "    .dataframe tbody tr th {\n",
              "        vertical-align: top;\n",
              "    }\n",
              "\n",
              "    .dataframe thead th {\n",
              "        text-align: right;\n",
              "    }\n",
              "</style>\n",
              "<table border=\"1\" class=\"dataframe\">\n",
              "  <thead>\n",
              "    <tr style=\"text-align: right;\">\n",
              "      <th></th>\n",
              "      <th>ID</th>\n",
              "      <th>Mail</th>\n",
              "      <th>Text</th>\n",
              "      <th>Label</th>\n",
              "    </tr>\n",
              "  </thead>\n",
              "  <tbody>\n",
              "    <tr>\n",
              "      <th>0</th>\n",
              "      <td>1</td>\n",
              "      <td>ham</td>\n",
              "      <td>Subject: christmas tree farm pictures\\r\\n</td>\n",
              "      <td>0</td>\n",
              "    </tr>\n",
              "    <tr>\n",
              "      <th>1</th>\n",
              "      <td>2</td>\n",
              "      <td>ham</td>\n",
              "      <td>Subject: vastar resources , inc .\\r\\ngary , pr...</td>\n",
              "      <td>0</td>\n",
              "    </tr>\n",
              "    <tr>\n",
              "      <th>2</th>\n",
              "      <td>3</td>\n",
              "      <td>ham</td>\n",
              "      <td>Subject: calpine daily gas nomination\\r\\n- cal...</td>\n",
              "      <td>0</td>\n",
              "    </tr>\n",
              "    <tr>\n",
              "      <th>3</th>\n",
              "      <td>4</td>\n",
              "      <td>ham</td>\n",
              "      <td>Subject: re : issue\\r\\nfyi - see note below - ...</td>\n",
              "      <td>0</td>\n",
              "    </tr>\n",
              "    <tr>\n",
              "      <th>4</th>\n",
              "      <td>5</td>\n",
              "      <td>ham</td>\n",
              "      <td>Subject: meter 7268 nov allocation\\r\\nfyi .\\r\\...</td>\n",
              "      <td>0</td>\n",
              "    </tr>\n",
              "  </tbody>\n",
              "</table>\n",
              "</div>\n",
              "      <button class=\"colab-df-convert\" onclick=\"convertToInteractive('df-6c3edff3-ac5c-463a-840f-f938cfdb3d0d')\"\n",
              "              title=\"Convert this dataframe to an interactive table.\"\n",
              "              style=\"display:none;\">\n",
              "        \n",
              "  <svg xmlns=\"http://www.w3.org/2000/svg\" height=\"24px\"viewBox=\"0 0 24 24\"\n",
              "       width=\"24px\">\n",
              "    <path d=\"M0 0h24v24H0V0z\" fill=\"none\"/>\n",
              "    <path d=\"M18.56 5.44l.94 2.06.94-2.06 2.06-.94-2.06-.94-.94-2.06-.94 2.06-2.06.94zm-11 1L8.5 8.5l.94-2.06 2.06-.94-2.06-.94L8.5 2.5l-.94 2.06-2.06.94zm10 10l.94 2.06.94-2.06 2.06-.94-2.06-.94-.94-2.06-.94 2.06-2.06.94z\"/><path d=\"M17.41 7.96l-1.37-1.37c-.4-.4-.92-.59-1.43-.59-.52 0-1.04.2-1.43.59L10.3 9.45l-7.72 7.72c-.78.78-.78 2.05 0 2.83L4 21.41c.39.39.9.59 1.41.59.51 0 1.02-.2 1.41-.59l7.78-7.78 2.81-2.81c.8-.78.8-2.07 0-2.86zM5.41 20L4 18.59l7.72-7.72 1.47 1.35L5.41 20z\"/>\n",
              "  </svg>\n",
              "      </button>\n",
              "      \n",
              "  <style>\n",
              "    .colab-df-container {\n",
              "      display:flex;\n",
              "      flex-wrap:wrap;\n",
              "      gap: 12px;\n",
              "    }\n",
              "\n",
              "    .colab-df-convert {\n",
              "      background-color: #E8F0FE;\n",
              "      border: none;\n",
              "      border-radius: 50%;\n",
              "      cursor: pointer;\n",
              "      display: none;\n",
              "      fill: #1967D2;\n",
              "      height: 32px;\n",
              "      padding: 0 0 0 0;\n",
              "      width: 32px;\n",
              "    }\n",
              "\n",
              "    .colab-df-convert:hover {\n",
              "      background-color: #E2EBFA;\n",
              "      box-shadow: 0px 1px 2px rgba(60, 64, 67, 0.3), 0px 1px 3px 1px rgba(60, 64, 67, 0.15);\n",
              "      fill: #174EA6;\n",
              "    }\n",
              "\n",
              "    [theme=dark] .colab-df-convert {\n",
              "      background-color: #3B4455;\n",
              "      fill: #D2E3FC;\n",
              "    }\n",
              "\n",
              "    [theme=dark] .colab-df-convert:hover {\n",
              "      background-color: #434B5C;\n",
              "      box-shadow: 0px 1px 3px 1px rgba(0, 0, 0, 0.15);\n",
              "      filter: drop-shadow(0px 1px 2px rgba(0, 0, 0, 0.3));\n",
              "      fill: #FFFFFF;\n",
              "    }\n",
              "  </style>\n",
              "\n",
              "      <script>\n",
              "        const buttonEl =\n",
              "          document.querySelector('#df-6c3edff3-ac5c-463a-840f-f938cfdb3d0d button.colab-df-convert');\n",
              "        buttonEl.style.display =\n",
              "          google.colab.kernel.accessAllowed ? 'block' : 'none';\n",
              "\n",
              "        async function convertToInteractive(key) {\n",
              "          const element = document.querySelector('#df-6c3edff3-ac5c-463a-840f-f938cfdb3d0d');\n",
              "          const dataTable =\n",
              "            await google.colab.kernel.invokeFunction('convertToInteractive',\n",
              "                                                     [key], {});\n",
              "          if (!dataTable) return;\n",
              "\n",
              "          const docLinkHtml = 'Like what you see? Visit the ' +\n",
              "            '<a target=\"_blank\" href=https://colab.research.google.com/notebooks/data_table.ipynb>data table notebook</a>'\n",
              "            + ' to learn more about interactive tables.';\n",
              "          element.innerHTML = '';\n",
              "          dataTable['output_type'] = 'display_data';\n",
              "          await google.colab.output.renderOutput(dataTable, element);\n",
              "          const docLink = document.createElement('div');\n",
              "          docLink.innerHTML = docLinkHtml;\n",
              "          element.appendChild(docLink);\n",
              "        }\n",
              "      </script>\n",
              "    </div>\n",
              "  </div>\n",
              "  "
            ]
          },
          "metadata": {},
          "execution_count": 38
        }
      ],
      "source": [
        "df.head()"
      ]
    },
    {
      "cell_type": "markdown",
      "metadata": {
        "id": "hPyZc32hpZK5"
      },
      "source": [
        "## Get information of Dataframe"
      ]
    },
    {
      "cell_type": "code",
      "execution_count": 39,
      "metadata": {
        "colab": {
          "base_uri": "https://localhost:8080/"
        },
        "id": "bL3EGM_lpRUj",
        "outputId": "681dd0d9-2d13-4910-fe66-a2bff38b5aa0"
      },
      "outputs": [
        {
          "output_type": "stream",
          "name": "stdout",
          "text": [
            "<class 'pandas.core.frame.DataFrame'>\n",
            "RangeIndex: 5171 entries, 0 to 5170\n",
            "Data columns (total 4 columns):\n",
            " #   Column  Non-Null Count  Dtype \n",
            "---  ------  --------------  ----- \n",
            " 0   ID      5171 non-null   int64 \n",
            " 1   Mail    5171 non-null   object\n",
            " 2   Text    5171 non-null   object\n",
            " 3   Label   5171 non-null   int64 \n",
            "dtypes: int64(2), object(2)\n",
            "memory usage: 161.7+ KB\n"
          ]
        }
      ],
      "source": [
        "df.info()"
      ]
    },
    {
      "cell_type": "markdown",
      "metadata": {
        "id": "QLQt_TWNpm-t"
      },
      "source": [
        "## Get column names"
      ]
    },
    {
      "cell_type": "code",
      "execution_count": 40,
      "metadata": {
        "colab": {
          "base_uri": "https://localhost:8080/"
        },
        "id": "GT1dhqYxpfyc",
        "outputId": "ada8f9f8-953d-4c66-d4b6-cd3377a764fa"
      },
      "outputs": [
        {
          "output_type": "execute_result",
          "data": {
            "text/plain": [
              "Index(['ID', 'Mail', 'Text', 'Label'], dtype='object')"
            ]
          },
          "metadata": {},
          "execution_count": 40
        }
      ],
      "source": [
        "df.columns"
      ]
    },
    {
      "cell_type": "markdown",
      "metadata": {
        "id": "l-TJzRevpxej"
      },
      "source": [
        "## Get shape of Dtaframe"
      ]
    },
    {
      "cell_type": "code",
      "execution_count": 41,
      "metadata": {
        "colab": {
          "base_uri": "https://localhost:8080/"
        },
        "id": "PZE4ct2ops3k",
        "outputId": "5e3be879-bc52-45a6-abcc-0649efca8797"
      },
      "outputs": [
        {
          "output_type": "execute_result",
          "data": {
            "text/plain": [
              "(5171, 4)"
            ]
          },
          "metadata": {},
          "execution_count": 41
        }
      ],
      "source": [
        "df.shape"
      ]
    },
    {
      "cell_type": "markdown",
      "metadata": {
        "id": "5DpysTIUp7tf"
      },
      "source": [
        "## Define y (Dependent or label or target variable) and X (independent or features or attribute variable)"
      ]
    },
    {
      "cell_type": "code",
      "execution_count": 42,
      "metadata": {
        "id": "TE9UMKump2yI"
      },
      "outputs": [],
      "source": [
        "y=df['Label']\n"
      ]
    },
    {
      "cell_type": "code",
      "execution_count": 43,
      "metadata": {
        "colab": {
          "base_uri": "https://localhost:8080/"
        },
        "id": "2nI6bzvUqMXF",
        "outputId": "6450227e-be2a-4b69-8d80-6dae637db1b2"
      },
      "outputs": [
        {
          "output_type": "execute_result",
          "data": {
            "text/plain": [
              "(5171,)"
            ]
          },
          "metadata": {},
          "execution_count": 43
        }
      ],
      "source": [
        "y.shape"
      ]
    },
    {
      "cell_type": "code",
      "execution_count": 44,
      "metadata": {
        "colab": {
          "base_uri": "https://localhost:8080/"
        },
        "id": "h_Z78_bdqQlb",
        "outputId": "f58e326a-81dc-4aa8-9402-21d5662bf6a0"
      },
      "outputs": [
        {
          "output_type": "execute_result",
          "data": {
            "text/plain": [
              "0       0\n",
              "1       0\n",
              "2       0\n",
              "3       0\n",
              "4       0\n",
              "       ..\n",
              "5166    1\n",
              "5167    1\n",
              "5168    1\n",
              "5169    1\n",
              "5170    1\n",
              "Name: Label, Length: 5171, dtype: int64"
            ]
          },
          "metadata": {},
          "execution_count": 44
        }
      ],
      "source": [
        "y"
      ]
    },
    {
      "cell_type": "code",
      "execution_count": 45,
      "metadata": {
        "id": "eUnpLC7dqUwk"
      },
      "outputs": [],
      "source": [
        "X=df['Text']"
      ]
    },
    {
      "cell_type": "code",
      "execution_count": 46,
      "metadata": {
        "colab": {
          "base_uri": "https://localhost:8080/"
        },
        "id": "t_49Qm6HqV-A",
        "outputId": "b3ead2ed-1eaa-46c6-90c8-ac85ed74ee1b"
      },
      "outputs": [
        {
          "output_type": "execute_result",
          "data": {
            "text/plain": [
              "(5171,)"
            ]
          },
          "metadata": {},
          "execution_count": 46
        }
      ],
      "source": [
        "X.shape"
      ]
    },
    {
      "cell_type": "code",
      "execution_count": 47,
      "metadata": {
        "colab": {
          "base_uri": "https://localhost:8080/"
        },
        "id": "wZnEA18kqapl",
        "outputId": "9ce34ee4-6b61-4554-fb81-b4b50c42cd02"
      },
      "outputs": [
        {
          "output_type": "execute_result",
          "data": {
            "text/plain": [
              "0               Subject: christmas tree farm pictures\\r\\n\n",
              "1       Subject: vastar resources , inc .\\r\\ngary , pr...\n",
              "2       Subject: calpine daily gas nomination\\r\\n- cal...\n",
              "3       Subject: re : issue\\r\\nfyi - see note below - ...\n",
              "4       Subject: meter 7268 nov allocation\\r\\nfyi .\\r\\...\n",
              "                              ...                        \n",
              "5166    Subject: our pro - forma invoice attached\\r\\nd...\n",
              "5167    Subject: str _ rndlen ( 2 - 4 ) } { extra _ ti...\n",
              "5168    Subject: check me out !\\r\\n61 bb\\r\\nhey derm\\r...\n",
              "5169    Subject: hot jobs\\r\\nglobal marketing specialt...\n",
              "5170    Subject: save up to 89 % on ink + no shipping ...\n",
              "Name: Text, Length: 5171, dtype: object"
            ]
          },
          "metadata": {},
          "execution_count": 47
        }
      ],
      "source": [
        "X"
      ]
    },
    {
      "cell_type": "markdown",
      "metadata": {
        "id": "wEyqRnTWqhWE"
      },
      "source": [
        "## Get Train Test split"
      ]
    },
    {
      "cell_type": "code",
      "execution_count": 48,
      "metadata": {
        "id": "W51lMzFHqcu1"
      },
      "outputs": [],
      "source": [
        "from sklearn.model_selection import train_test_split"
      ]
    },
    {
      "cell_type": "code",
      "execution_count": 49,
      "metadata": {
        "id": "L3Fc22gmqm9Q"
      },
      "outputs": [],
      "source": [
        "X_train,X_test,y_train,y_test=train_test_split(X,y,test_size=0.3,stratify=y,random_state=2529)"
      ]
    },
    {
      "cell_type": "code",
      "execution_count": 50,
      "metadata": {
        "colab": {
          "base_uri": "https://localhost:8080/"
        },
        "id": "tizXNBlRqqtl",
        "outputId": "1247ad61-81eb-4dc3-9a7d-7aa2132eba69"
      },
      "outputs": [
        {
          "output_type": "execute_result",
          "data": {
            "text/plain": [
              "((3619,), (1552,), (3619,), (1552,))"
            ]
          },
          "metadata": {},
          "execution_count": 50
        }
      ],
      "source": [
        "\n",
        "X_train.shape,X_test.shape,y_train.shape,y_test.shape"
      ]
    },
    {
      "cell_type": "markdown",
      "metadata": {
        "id": "A96LimGTqyL_"
      },
      "source": [
        "## Get X variable Feature Extraction"
      ]
    },
    {
      "cell_type": "markdown",
      "metadata": {
        "id": "VL-Nosgfq4yQ"
      },
      "source": [
        "The sklearn.feature_extraction module can be used to extract the features in a format supported by ML algorithms from datasets consisting of formats such as text and image.\n",
        "     The raw data,a sequence of symbols cannot be fed directly to the algorithms themselves as most of them expect numerical feature vector with fixed size rather than the raw text documents with variable length.\n",
        "     we call vectorization the general process of turning a collection of text document into numerical feature vectors.This strategy is called the Bag of words or \"Bag of n-grams\" representation.\n",
        "     In order to re-weight the count features into floating point values suitable for usage by a classifier it is very common to use the tf-idf transform.\n",
        "     Tf means term-frequency while tf-idf means term-frequency times inverse document-frequency.\n"
      ]
    },
    {
      "cell_type": "code",
      "execution_count": 51,
      "metadata": {
        "id": "NRYyS-Lnqt4V"
      },
      "outputs": [],
      "source": [
        "from sklearn.feature_extraction.text import TfidfVectorizer"
      ]
    },
    {
      "cell_type": "code",
      "execution_count": 52,
      "metadata": {
        "id": "04uisAaMrOXg"
      },
      "outputs": [],
      "source": [
        "tfidf=TfidfVectorizer(min_df=1,stop_words='english',lowercase='True')"
      ]
    },
    {
      "cell_type": "code",
      "execution_count": 53,
      "metadata": {
        "id": "tk5u7p2qrUa6"
      },
      "outputs": [],
      "source": [
        "X_train_features=tfidf.fit_transform(X_train )"
      ]
    },
    {
      "cell_type": "code",
      "execution_count": 54,
      "metadata": {
        "id": "CK8Y1KLarcVO"
      },
      "outputs": [],
      "source": [
        "X_test_features=tfidf.transform(X_test)"
      ]
    },
    {
      "cell_type": "code",
      "execution_count": 55,
      "metadata": {
        "colab": {
          "base_uri": "https://localhost:8080/"
        },
        "id": "mfaWoc4erfxR",
        "outputId": "a510f14d-e054-4564-e6f7-9c46f105e2ea"
      },
      "outputs": [
        {
          "output_type": "execute_result",
          "data": {
            "text/plain": [
              "4367    Subject: time sensitive . . . refer to # f 781...\n",
              "3849    Subject: homeowners - get more money in your p...\n",
              "2199    Subject: calpine daily gas nomination\\r\\n>\\r\\n...\n",
              "2057    Subject: holiday invitation\\r\\nplease click on...\n",
              "3019    Subject: first deliveries - comstock oil & gas...\n",
              "                              ...                        \n",
              "579     Subject: new update for buybacks\\r\\nthere are ...\n",
              "4280    Subject: get it free - ibm thinkpad computer !...\n",
              "3909    Subject: buckhorn doberman\\r\\nhello . i did no...\n",
              "2133    Subject: galleryfurniture . com bowl\\r\\nenron ...\n",
              "4508              Subject: want a new playstation 2 ?\\r\\n\n",
              "Name: Text, Length: 3619, dtype: object"
            ]
          },
          "metadata": {},
          "execution_count": 55
        }
      ],
      "source": [
        "X_train"
      ]
    },
    {
      "cell_type": "code",
      "execution_count": 56,
      "metadata": {
        "colab": {
          "base_uri": "https://localhost:8080/"
        },
        "id": "NCEJm2OTrmir",
        "outputId": "19aee1bf-8dab-4c9e-bd29-ff1295824e15"
      },
      "outputs": [
        {
          "output_type": "execute_result",
          "data": {
            "text/plain": [
              "<3619x40400 sparse matrix of type '<class 'numpy.float64'>'\n",
              "\twith 237060 stored elements in Compressed Sparse Row format>"
            ]
          },
          "metadata": {},
          "execution_count": 56
        }
      ],
      "source": [
        "X_train_features"
      ]
    },
    {
      "cell_type": "markdown",
      "metadata": {
        "id": "-QQLeoNsqx-U"
      },
      "source": [
        "## Get model train"
      ]
    },
    {
      "cell_type": "code",
      "execution_count": null,
      "metadata": {
        "id": "6jFYCgQPrwuy"
      },
      "outputs": [],
      "source": [
        "from sklearn.ensemble import RandomForestClassifier"
      ]
    },
    {
      "cell_type": "code",
      "execution_count": null,
      "metadata": {
        "id": "l8TX43Gnr0F2"
      },
      "outputs": [],
      "source": [
        "rf=RandomForestClassifier(random_state=2529)"
      ]
    },
    {
      "cell_type": "code",
      "execution_count": 57,
      "metadata": {
        "colab": {
          "base_uri": "https://localhost:8080/"
        },
        "id": "DsVMagLNr3JO",
        "outputId": "1a34bc2e-704f-42a0-f7a3-48985b0e5385"
      },
      "outputs": [
        {
          "output_type": "execute_result",
          "data": {
            "text/plain": [
              "RandomForestClassifier(random_state=2529)"
            ]
          },
          "metadata": {},
          "execution_count": 57
        }
      ],
      "source": [
        "rf.fit(X_train_features,y_train)"
      ]
    },
    {
      "cell_type": "markdown",
      "metadata": {
        "id": "8g_SGxRkr9tV"
      },
      "source": [
        "## Get model prediction"
      ]
    },
    {
      "cell_type": "code",
      "execution_count": 58,
      "metadata": {
        "id": "Vw8eK9hir6iO"
      },
      "outputs": [],
      "source": [
        "y_pred=rf.predict(X_test_features)"
      ]
    },
    {
      "cell_type": "code",
      "execution_count": 59,
      "metadata": {
        "colab": {
          "base_uri": "https://localhost:8080/"
        },
        "id": "7xbtXUR6sDRU",
        "outputId": "ae0bd25b-a185-463a-867e-4ee9cbd1e681"
      },
      "outputs": [
        {
          "output_type": "execute_result",
          "data": {
            "text/plain": [
              "(1552,)"
            ]
          },
          "metadata": {},
          "execution_count": 59
        }
      ],
      "source": [
        "y_pred.shape"
      ]
    },
    {
      "cell_type": "code",
      "execution_count": 60,
      "metadata": {
        "colab": {
          "base_uri": "https://localhost:8080/"
        },
        "id": "HcscIXzasGvv",
        "outputId": "4eea413e-171b-4783-dd96-7950b3c210ac"
      },
      "outputs": [
        {
          "output_type": "execute_result",
          "data": {
            "text/plain": [
              "array([0, 1, 0, ..., 1, 0, 0])"
            ]
          },
          "metadata": {},
          "execution_count": 60
        }
      ],
      "source": [
        "y_pred"
      ]
    },
    {
      "cell_type": "markdown",
      "metadata": {
        "id": "-zaq022SsNw0"
      },
      "source": [
        "## Get probability of each predicted class"
      ]
    },
    {
      "cell_type": "code",
      "execution_count": 61,
      "metadata": {
        "colab": {
          "base_uri": "https://localhost:8080/"
        },
        "id": "4JwiuhLFsKcz",
        "outputId": "826f296a-62a7-48d2-bded-47c087a81edc"
      },
      "outputs": [
        {
          "output_type": "execute_result",
          "data": {
            "text/plain": [
              "array([[0.99, 0.01],\n",
              "       [0.1 , 0.9 ],\n",
              "       [0.72, 0.28],\n",
              "       ...,\n",
              "       [0.3 , 0.7 ],\n",
              "       [0.89, 0.11],\n",
              "       [0.68, 0.32]])"
            ]
          },
          "metadata": {},
          "execution_count": 61
        }
      ],
      "source": [
        "rf.predict_proba(X_test_features)"
      ]
    },
    {
      "cell_type": "markdown",
      "metadata": {
        "id": "HYgLGZfYsW0Y"
      },
      "source": [
        "## Get model evaluation"
      ]
    },
    {
      "cell_type": "code",
      "execution_count": 62,
      "metadata": {
        "id": "2k8XCrDLsTfP"
      },
      "outputs": [],
      "source": [
        "from sklearn.metrics import confusion_matrix,classification_report"
      ]
    },
    {
      "cell_type": "code",
      "execution_count": 63,
      "metadata": {
        "colab": {
          "base_uri": "https://localhost:8080/"
        },
        "id": "0-Wy2GvAscAf",
        "outputId": "09553547-a968-4f0c-ca77-38a47fa9e39b"
      },
      "outputs": [
        {
          "output_type": "stream",
          "name": "stdout",
          "text": [
            "[[1081   21]\n",
            " [  15  435]]\n"
          ]
        }
      ],
      "source": [
        "print(confusion_matrix(y_test,y_pred))"
      ]
    },
    {
      "cell_type": "code",
      "execution_count": 64,
      "metadata": {
        "colab": {
          "base_uri": "https://localhost:8080/"
        },
        "id": "MsHs9KYcsioH",
        "outputId": "847998d3-1e8c-41c0-b7be-c1f18e2a5bc0"
      },
      "outputs": [
        {
          "output_type": "stream",
          "name": "stdout",
          "text": [
            "              precision    recall  f1-score   support\n",
            "\n",
            "           0       0.99      0.98      0.98      1102\n",
            "           1       0.95      0.97      0.96       450\n",
            "\n",
            "    accuracy                           0.98      1552\n",
            "   macro avg       0.97      0.97      0.97      1552\n",
            "weighted avg       0.98      0.98      0.98      1552\n",
            "\n"
          ]
        }
      ],
      "source": [
        "print(classification_report(y_test,y_pred))"
      ]
    }
  ],
  "metadata": {
    "colab": {
      "collapsed_sections": [],
      "name": "Spam Email Prediction Using Random Forest.ipynb",
      "provenance": []
    },
    "kernelspec": {
      "display_name": "Python 3",
      "name": "python3"
    },
    "language_info": {
      "name": "python"
    }
  },
  "nbformat": 4,
  "nbformat_minor": 0
}